{
 "cells": [
  {
   "cell_type": "code",
   "execution_count": 1,
   "id": "045ecde2",
   "metadata": {
    "_cell_guid": "b1076dfc-b9ad-4769-8c92-a6c4dae69d19",
    "_uuid": "8f2839f25d086af736a60e9eeb907d3b93b6e0e5",
    "execution": {
     "iopub.execute_input": "2024-05-26T10:13:51.140138Z",
     "iopub.status.busy": "2024-05-26T10:13:51.139320Z",
     "iopub.status.idle": "2024-05-26T10:13:52.212178Z",
     "shell.execute_reply": "2024-05-26T10:13:52.210671Z"
    },
    "papermill": {
     "duration": 1.092378,
     "end_time": "2024-05-26T10:13:52.215073",
     "exception": false,
     "start_time": "2024-05-26T10:13:51.122695",
     "status": "completed"
    },
    "tags": []
   },
   "outputs": [
    {
     "name": "stdout",
     "output_type": "stream",
     "text": [
      "/kaggle/input/indonesian-marketplace-product-reviews/reviews.csv\n"
     ]
    }
   ],
   "source": [
    "# This Python 3 environment comes with many helpful analytics libraries installed\n",
    "# It is defined by the kaggle/python Docker image: https://github.com/kaggle/docker-python\n",
    "# For example, here's several helpful packages to load\n",
    "\n",
    "import numpy as np # linear algebra\n",
    "import pandas as pd # data processing, CSV file I/O (e.g. pd.read_csv)\n",
    "\n",
    "# Input data files are available in the read-only \"../input/\" directory\n",
    "# For example, running this (by clicking run or pressing Shift+Enter) will list all files under the input directory\n",
    "\n",
    "import os\n",
    "for dirname, _, filenames in os.walk('/kaggle/input'):\n",
    "    for filename in filenames:\n",
    "        print(os.path.join(dirname, filename))\n",
    "\n",
    "# You can write up to 20GB to the current directory (/kaggle/working/) that gets preserved as output when you create a version using \"Save & Run All\" \n",
    "# You can also write temporary files to /kaggle/temp/, but they won't be saved outside of the current session"
   ]
  },
  {
   "cell_type": "markdown",
   "id": "d1605320",
   "metadata": {
    "papermill": {
     "duration": 0.013666,
     "end_time": "2024-05-26T10:13:52.243537",
     "exception": false,
     "start_time": "2024-05-26T10:13:52.229871",
     "status": "completed"
    },
    "tags": []
   },
   "source": [
    "## Import Dataset"
   ]
  },
  {
   "cell_type": "code",
   "execution_count": 2,
   "id": "0ae98381",
   "metadata": {
    "execution": {
     "iopub.execute_input": "2024-05-26T10:13:52.275049Z",
     "iopub.status.busy": "2024-05-26T10:13:52.274528Z",
     "iopub.status.idle": "2024-05-26T10:13:52.304298Z",
     "shell.execute_reply": "2024-05-26T10:13:52.303030Z"
    },
    "papermill": {
     "duration": 0.048937,
     "end_time": "2024-05-26T10:13:52.307144",
     "exception": false,
     "start_time": "2024-05-26T10:13:52.258207",
     "status": "completed"
    },
    "tags": []
   },
   "outputs": [],
   "source": [
    "df = pd.read_csv('/kaggle/input/indonesian-marketplace-product-reviews/reviews.csv')"
   ]
  },
  {
   "cell_type": "code",
   "execution_count": 3,
   "id": "5e877408",
   "metadata": {
    "execution": {
     "iopub.execute_input": "2024-05-26T10:13:52.339306Z",
     "iopub.status.busy": "2024-05-26T10:13:52.338626Z",
     "iopub.status.idle": "2024-05-26T10:13:52.371508Z",
     "shell.execute_reply": "2024-05-26T10:13:52.370293Z"
    },
    "papermill": {
     "duration": 0.051138,
     "end_time": "2024-05-26T10:13:52.373891",
     "exception": false,
     "start_time": "2024-05-26T10:13:52.322753",
     "status": "completed"
    },
    "tags": []
   },
   "outputs": [
    {
     "data": {
      "text/html": [
       "<div>\n",
       "<style scoped>\n",
       "    .dataframe tbody tr th:only-of-type {\n",
       "        vertical-align: middle;\n",
       "    }\n",
       "\n",
       "    .dataframe tbody tr th {\n",
       "        vertical-align: top;\n",
       "    }\n",
       "\n",
       "    .dataframe thead th {\n",
       "        text-align: right;\n",
       "    }\n",
       "</style>\n",
       "<table border=\"1\" class=\"dataframe\">\n",
       "  <thead>\n",
       "    <tr style=\"text-align: right;\">\n",
       "      <th></th>\n",
       "      <th>reviews</th>\n",
       "      <th>label</th>\n",
       "    </tr>\n",
       "  </thead>\n",
       "  <tbody>\n",
       "    <tr>\n",
       "      <th>0</th>\n",
       "      <td>kemeja nya bagusss bgtttt😍😍😍aaaa mauuu nngisss...</td>\n",
       "      <td>1.0</td>\n",
       "    </tr>\n",
       "    <tr>\n",
       "      <th>1</th>\n",
       "      <td>Jahitannya sih rapi,cuman ada benang yang ikut...</td>\n",
       "      <td>0.0</td>\n",
       "    </tr>\n",
       "    <tr>\n",
       "      <th>2</th>\n",
       "      <td>Sesuai harga. Agak tipis tapi masih oke kok. W...</td>\n",
       "      <td>0.0</td>\n",
       "    </tr>\n",
       "    <tr>\n",
       "      <th>3</th>\n",
       "      <td>Wah gila sihhh sebagus itu, se worth it, se  l...</td>\n",
       "      <td>1.0</td>\n",
       "    </tr>\n",
       "    <tr>\n",
       "      <th>4</th>\n",
       "      <td>Kain nya bagus halus  \\nTapi kok di bukak koto...</td>\n",
       "      <td>0.0</td>\n",
       "    </tr>\n",
       "    <tr>\n",
       "      <th>...</th>\n",
       "      <td>...</td>\n",
       "      <td>...</td>\n",
       "    </tr>\n",
       "    <tr>\n",
       "      <th>826</th>\n",
       "      <td>Terima kasih barang sudah sampai sesuai ukuran...</td>\n",
       "      <td>1.0</td>\n",
       "    </tr>\n",
       "    <tr>\n",
       "      <th>827</th>\n",
       "      <td>Mantapp realpicttt bangttt tapi pengemasan nya...</td>\n",
       "      <td>1.0</td>\n",
       "    </tr>\n",
       "    <tr>\n",
       "      <th>828</th>\n",
       "      <td>Suka bgt sama tasnya, ga kayak tas local. Kere...</td>\n",
       "      <td>1.0</td>\n",
       "    </tr>\n",
       "    <tr>\n",
       "      <th>829</th>\n",
       "      <td>kualitas produk sangat baik. produk original. ...</td>\n",
       "      <td>1.0</td>\n",
       "    </tr>\n",
       "    <tr>\n",
       "      <th>830</th>\n",
       "      <td>Barang udah sampai dg selamat, mantul banget d...</td>\n",
       "      <td>1.0</td>\n",
       "    </tr>\n",
       "  </tbody>\n",
       "</table>\n",
       "<p>831 rows × 2 columns</p>\n",
       "</div>"
      ],
      "text/plain": [
       "                                               reviews  label\n",
       "0    kemeja nya bagusss bgtttt😍😍😍aaaa mauuu nngisss...    1.0\n",
       "1    Jahitannya sih rapi,cuman ada benang yang ikut...    0.0\n",
       "2    Sesuai harga. Agak tipis tapi masih oke kok. W...    0.0\n",
       "3    Wah gila sihhh sebagus itu, se worth it, se  l...    1.0\n",
       "4    Kain nya bagus halus  \\nTapi kok di bukak koto...    0.0\n",
       "..                                                 ...    ...\n",
       "826  Terima kasih barang sudah sampai sesuai ukuran...    1.0\n",
       "827  Mantapp realpicttt bangttt tapi pengemasan nya...    1.0\n",
       "828  Suka bgt sama tasnya, ga kayak tas local. Kere...    1.0\n",
       "829  kualitas produk sangat baik. produk original. ...    1.0\n",
       "830  Barang udah sampai dg selamat, mantul banget d...    1.0\n",
       "\n",
       "[831 rows x 2 columns]"
      ]
     },
     "execution_count": 3,
     "metadata": {},
     "output_type": "execute_result"
    }
   ],
   "source": [
    "df"
   ]
  },
  {
   "cell_type": "markdown",
   "id": "227e76c8",
   "metadata": {
    "papermill": {
     "duration": 0.013943,
     "end_time": "2024-05-26T10:13:52.402421",
     "exception": false,
     "start_time": "2024-05-26T10:13:52.388478",
     "status": "completed"
    },
    "tags": []
   },
   "source": [
    "## Buat semua reviews menjadi lowertext"
   ]
  },
  {
   "cell_type": "code",
   "execution_count": 4,
   "id": "fddff476",
   "metadata": {
    "execution": {
     "iopub.execute_input": "2024-05-26T10:13:52.432961Z",
     "iopub.status.busy": "2024-05-26T10:13:52.432557Z",
     "iopub.status.idle": "2024-05-26T10:13:52.437079Z",
     "shell.execute_reply": "2024-05-26T10:13:52.435891Z"
    },
    "papermill": {
     "duration": 0.022652,
     "end_time": "2024-05-26T10:13:52.439333",
     "exception": false,
     "start_time": "2024-05-26T10:13:52.416681",
     "status": "completed"
    },
    "tags": []
   },
   "outputs": [],
   "source": [
    "# df[\"reviews\"] = df[\"reviews\"].apply(str.lower)"
   ]
  },
  {
   "cell_type": "code",
   "execution_count": 5,
   "id": "7a78a6ea",
   "metadata": {
    "execution": {
     "iopub.execute_input": "2024-05-26T10:13:52.471664Z",
     "iopub.status.busy": "2024-05-26T10:13:52.471273Z",
     "iopub.status.idle": "2024-05-26T10:13:52.481741Z",
     "shell.execute_reply": "2024-05-26T10:13:52.480351Z"
    },
    "papermill": {
     "duration": 0.028989,
     "end_time": "2024-05-26T10:13:52.484291",
     "exception": false,
     "start_time": "2024-05-26T10:13:52.455302",
     "status": "completed"
    },
    "tags": []
   },
   "outputs": [
    {
     "data": {
      "text/plain": [
       "'kemeja nya bagusss bgtttt😍😍😍aaaa mauuu nngisssss😩😩😩knpa ga dri dlu beli kemeja ditoko ini😜, ini kemejanya asli emg bagus, bahannya jga adem ga gerah,and ga nerawang jga... itu krna camera nya jelek jdi ga trlalu jelas kemejanya.. asliny baguss bgttt ga bhong sumpah'"
      ]
     },
     "execution_count": 5,
     "metadata": {},
     "output_type": "execute_result"
    }
   ],
   "source": [
    "def to_lower(text):\n",
    "    return text.lower()\n",
    "\n",
    "df.reviews = df.reviews.apply(to_lower)\n",
    "df.reviews[0]"
   ]
  },
  {
   "cell_type": "markdown",
   "id": "438e2fbf",
   "metadata": {
    "papermill": {
     "duration": 0.014815,
     "end_time": "2024-05-26T10:13:52.514292",
     "exception": false,
     "start_time": "2024-05-26T10:13:52.499477",
     "status": "completed"
    },
    "tags": []
   },
   "source": [
    "## Menghapus special text"
   ]
  },
  {
   "cell_type": "code",
   "execution_count": 6,
   "id": "992c9298",
   "metadata": {
    "execution": {
     "iopub.execute_input": "2024-05-26T10:13:52.546253Z",
     "iopub.status.busy": "2024-05-26T10:13:52.545444Z",
     "iopub.status.idle": "2024-05-26T10:13:52.574429Z",
     "shell.execute_reply": "2024-05-26T10:13:52.573483Z"
    },
    "papermill": {
     "duration": 0.047167,
     "end_time": "2024-05-26T10:13:52.576851",
     "exception": false,
     "start_time": "2024-05-26T10:13:52.529684",
     "status": "completed"
    },
    "tags": []
   },
   "outputs": [
    {
     "data": {
      "text/plain": [
       "'kemeja nya bagusss bgtttt   aaaa mauuu nngisssss   knpa ga dri dlu beli kemeja ditoko ini   ini kemejanya asli emg bagus  bahannya jga adem ga gerah and ga nerawang jga    itu krna camera nya jelek jdi ga trlalu jelas kemejanya   asliny baguss bgttt ga bhong sumpah'"
      ]
     },
     "execution_count": 6,
     "metadata": {},
     "output_type": "execute_result"
    }
   ],
   "source": [
    "def is_special(text):\n",
    "    rem = ''\n",
    "    for i in text:\n",
    "        if i.isalnum():\n",
    "            rem = rem + i\n",
    "        else:\n",
    "            rem = rem + ' '\n",
    "    return rem\n",
    "\n",
    "df.reviews = df.reviews.apply(is_special)\n",
    "df.reviews[0]"
   ]
  },
  {
   "cell_type": "markdown",
   "id": "21f5533a",
   "metadata": {
    "papermill": {
     "duration": 0.014701,
     "end_time": "2024-05-26T10:13:52.606504",
     "exception": false,
     "start_time": "2024-05-26T10:13:52.591803",
     "status": "completed"
    },
    "tags": []
   },
   "source": [
    "## Hapus stopwords"
   ]
  },
  {
   "cell_type": "code",
   "execution_count": 7,
   "id": "6bd8cc3b",
   "metadata": {
    "execution": {
     "iopub.execute_input": "2024-05-26T10:13:52.639086Z",
     "iopub.status.busy": "2024-05-26T10:13:52.638341Z",
     "iopub.status.idle": "2024-05-26T10:13:52.642646Z",
     "shell.execute_reply": "2024-05-26T10:13:52.641746Z"
    },
    "papermill": {
     "duration": 0.023006,
     "end_time": "2024-05-26T10:13:52.644853",
     "exception": false,
     "start_time": "2024-05-26T10:13:52.621847",
     "status": "completed"
    },
    "tags": []
   },
   "outputs": [],
   "source": [
    "# import nltk\n",
    "# nltk.download('stopwords')\n",
    "# nltk.download('punkt')\n",
    "\n",
    "# def rem_stopwords(text):\n",
    "#     stop_words = set(stopwords.words('indonesia'))\n",
    "#     words = word_tokenize(text)\n",
    "#     return [w for w in words if w not in stop_words]\n",
    "\n",
    "# df.reviews = df.reviews.apply(rem_stopwords)\n",
    "# df.reviews[0]"
   ]
  },
  {
   "cell_type": "code",
   "execution_count": 8,
   "id": "94b1698f",
   "metadata": {
    "execution": {
     "iopub.execute_input": "2024-05-26T10:13:52.677834Z",
     "iopub.status.busy": "2024-05-26T10:13:52.677137Z",
     "iopub.status.idle": "2024-05-26T10:14:09.552154Z",
     "shell.execute_reply": "2024-05-26T10:14:09.550904Z"
    },
    "papermill": {
     "duration": 16.895817,
     "end_time": "2024-05-26T10:14:09.555476",
     "exception": false,
     "start_time": "2024-05-26T10:13:52.659659",
     "status": "completed"
    },
    "tags": []
   },
   "outputs": [
    {
     "name": "stdout",
     "output_type": "stream",
     "text": [
      "Collecting Sastrawi\r\n",
      "  Downloading Sastrawi-1.0.1-py2.py3-none-any.whl.metadata (909 bytes)\r\n",
      "Downloading Sastrawi-1.0.1-py2.py3-none-any.whl (209 kB)\r\n",
      "\u001b[2K   \u001b[90m━━━━━━━━━━━━━━━━━━━━━━━━━━━━━━━━━━━━━━━━\u001b[0m \u001b[32m209.7/209.7 kB\u001b[0m \u001b[31m4.9 MB/s\u001b[0m eta \u001b[36m0:00:00\u001b[0m\r\n",
      "\u001b[?25hInstalling collected packages: Sastrawi\r\n",
      "Successfully installed Sastrawi-1.0.1\r\n"
     ]
    }
   ],
   "source": [
    "!pip install Sastrawi"
   ]
  },
  {
   "cell_type": "code",
   "execution_count": 9,
   "id": "5c91c8a1",
   "metadata": {
    "execution": {
     "iopub.execute_input": "2024-05-26T10:14:09.593693Z",
     "iopub.status.busy": "2024-05-26T10:14:09.593256Z",
     "iopub.status.idle": "2024-05-26T10:14:09.608261Z",
     "shell.execute_reply": "2024-05-26T10:14:09.606990Z"
    },
    "papermill": {
     "duration": 0.035665,
     "end_time": "2024-05-26T10:14:09.610929",
     "exception": false,
     "start_time": "2024-05-26T10:14:09.575264",
     "status": "completed"
    },
    "tags": []
   },
   "outputs": [
    {
     "name": "stdout",
     "output_type": "stream",
     "text": [
      "['yang', 'untuk', 'pada', 'ke', 'para', 'namun', 'menurut', 'antara', 'dia', 'dua', 'ia', 'seperti', 'jika', 'jika', 'sehingga', 'kembali', 'dan', 'tidak', 'ini', 'karena', 'kepada', 'oleh', 'saat', 'harus', 'sementara', 'setelah', 'belum', 'kami', 'sekitar', 'bagi', 'serta', 'di', 'dari', 'telah', 'sebagai', 'masih', 'hal', 'ketika', 'adalah', 'itu', 'dalam', 'bisa', 'bahwa', 'atau', 'hanya', 'kita', 'dengan', 'akan', 'juga', 'ada', 'mereka', 'sudah', 'saya', 'terhadap', 'secara', 'agar', 'lain', 'anda', 'begitu', 'mengapa', 'kenapa', 'yaitu', 'yakni', 'daripada', 'itulah', 'lagi', 'maka', 'tentang', 'demi', 'dimana', 'kemana', 'pula', 'sambil', 'sebelum', 'sesudah', 'supaya', 'guna', 'kah', 'pun', 'sampai', 'sedangkan', 'selagi', 'sementara', 'tetapi', 'apakah', 'kecuali', 'sebab', 'selain', 'seolah', 'seraya', 'seterusnya', 'tanpa', 'agak', 'boleh', 'dapat', 'dsb', 'dst', 'dll', 'dahulu', 'dulunya', 'anu', 'demikian', 'tapi', 'ingin', 'juga', 'nggak', 'mari', 'nanti', 'melainkan', 'oh', 'ok', 'seharusnya', 'sebetulnya', 'setiap', 'setidaknya', 'sesuatu', 'pasti', 'saja', 'toh', 'ya', 'walau', 'tolong', 'tentu', 'amat', 'apalagi', 'bagaimanapun', 'dengan', 'ia', 'bahwa', 'oleh', 'nya', 'sih']\n"
     ]
    }
   ],
   "source": [
    "from Sastrawi.StopWordRemover.StopWordRemoverFactory import StopWordRemoverFactory\n",
    "stop_factory = StopWordRemoverFactory()\n",
    "more_stopword = ['dengan', 'ia','bahwa','oleh', 'nya', 'sih']\n",
    "data = stop_factory.get_stop_words()+more_stopword\n",
    "stopword = stop_factory.create_stop_word_remover()\n",
    "print(data)"
   ]
  },
  {
   "cell_type": "code",
   "execution_count": 10,
   "id": "d1535501",
   "metadata": {
    "execution": {
     "iopub.execute_input": "2024-05-26T10:14:09.644162Z",
     "iopub.status.busy": "2024-05-26T10:14:09.643382Z",
     "iopub.status.idle": "2024-05-26T10:14:12.191818Z",
     "shell.execute_reply": "2024-05-26T10:14:12.190844Z"
    },
    "papermill": {
     "duration": 2.567548,
     "end_time": "2024-05-26T10:14:12.194095",
     "exception": false,
     "start_time": "2024-05-26T10:14:09.626547",
     "status": "completed"
    },
    "tags": []
   },
   "outputs": [
    {
     "data": {
      "text/plain": [
       "['kemeja',\n",
       " 'bagusss',\n",
       " 'bgtttt',\n",
       " 'aaaa',\n",
       " 'mauuu',\n",
       " 'nngisssss',\n",
       " 'knpa',\n",
       " 'ga',\n",
       " 'dri',\n",
       " 'dlu',\n",
       " 'beli',\n",
       " 'kemeja',\n",
       " 'ditoko',\n",
       " 'kemejanya',\n",
       " 'asli',\n",
       " 'emg',\n",
       " 'bagus',\n",
       " 'bahannya',\n",
       " 'jga',\n",
       " 'adem',\n",
       " 'ga',\n",
       " 'gerah',\n",
       " 'and',\n",
       " 'ga',\n",
       " 'nerawang',\n",
       " 'jga',\n",
       " 'krna',\n",
       " 'camera',\n",
       " 'jelek',\n",
       " 'jdi',\n",
       " 'ga',\n",
       " 'trlalu',\n",
       " 'jelas',\n",
       " 'kemejanya',\n",
       " 'asliny',\n",
       " 'baguss',\n",
       " 'bgttt',\n",
       " 'ga',\n",
       " 'bhong',\n",
       " 'sumpah']"
      ]
     },
     "execution_count": 10,
     "metadata": {},
     "output_type": "execute_result"
    }
   ],
   "source": [
    "from nltk.tokenize import word_tokenize\n",
    "\n",
    "def rem_stopwords(text):\n",
    "    words = word_tokenize(text)\n",
    "    return [w for w in words if w not in data]\n",
    "\n",
    "df.reviews = df.reviews.apply(rem_stopwords)\n",
    "df.reviews[0]"
   ]
  },
  {
   "cell_type": "code",
   "execution_count": 11,
   "id": "0fcee4e1",
   "metadata": {
    "execution": {
     "iopub.execute_input": "2024-05-26T10:14:12.228552Z",
     "iopub.status.busy": "2024-05-26T10:14:12.227409Z",
     "iopub.status.idle": "2024-05-26T10:14:12.240843Z",
     "shell.execute_reply": "2024-05-26T10:14:12.239639Z"
    },
    "papermill": {
     "duration": 0.0339,
     "end_time": "2024-05-26T10:14:12.243344",
     "exception": false,
     "start_time": "2024-05-26T10:14:12.209444",
     "status": "completed"
    },
    "tags": []
   },
   "outputs": [
    {
     "data": {
      "text/plain": [
       "0      [kemeja, bagusss, bgtttt, aaaa, mauuu, nngisss...\n",
       "1      [jahitannya, rapi, cuman, benang, ikut, jahit,...\n",
       "2      [sesuai, harga, tipis, oke, kok, warnanya, abu...\n",
       "3      [wah, gila, sihhh, sebagus, se, worth, it, se,...\n",
       "4      [kain, bagus, halus, kok, bukak, kotor, warna,...\n",
       "                             ...                        \n",
       "826    [terima, kasih, barang, sesuai, ukuran, seesua...\n",
       "827    [mantapp, realpicttt, bangttt, pengemasan, cum...\n",
       "828    [suka, bgt, sama, tasnya, ga, kayak, tas, loca...\n",
       "829    [kualitas, produk, sangat, baik, produk, origi...\n",
       "830    [barang, udah, dg, selamat, mantul, banget, da...\n",
       "Name: reviews, Length: 831, dtype: object"
      ]
     },
     "execution_count": 11,
     "metadata": {},
     "output_type": "execute_result"
    }
   ],
   "source": [
    "df.reviews"
   ]
  },
  {
   "cell_type": "code",
   "execution_count": 12,
   "id": "6f6bed53",
   "metadata": {
    "execution": {
     "iopub.execute_input": "2024-05-26T10:14:12.277643Z",
     "iopub.status.busy": "2024-05-26T10:14:12.276556Z",
     "iopub.status.idle": "2024-05-26T10:14:12.282014Z",
     "shell.execute_reply": "2024-05-26T10:14:12.281057Z"
    },
    "papermill": {
     "duration": 0.025714,
     "end_time": "2024-05-26T10:14:12.284553",
     "exception": false,
     "start_time": "2024-05-26T10:14:12.258839",
     "status": "completed"
    },
    "tags": []
   },
   "outputs": [],
   "source": [
    "# from Sastrawi.Stemmer.StemmerFactory import StemmerFactory\n",
    "\n",
    "# factory = StemmerFactory()\n",
    "# stemmer = factory.create_stemmer()\n",
    "\n",
    "# def stem_list(word_list):\n",
    "#     return [stemmer.stem(word) for word in word_list]\n",
    "\n",
    "# # Melakukan stemming pada setiap daftar kata dalam data\n",
    "# stemmed_data = [stem_list(words) for words in df.reviews]"
   ]
  },
  {
   "cell_type": "code",
   "execution_count": 13,
   "id": "1f8eefab",
   "metadata": {
    "execution": {
     "iopub.execute_input": "2024-05-26T10:14:12.319867Z",
     "iopub.status.busy": "2024-05-26T10:14:12.319089Z",
     "iopub.status.idle": "2024-05-26T10:14:12.323809Z",
     "shell.execute_reply": "2024-05-26T10:14:12.323014Z"
    },
    "papermill": {
     "duration": 0.025182,
     "end_time": "2024-05-26T10:14:12.326253",
     "exception": false,
     "start_time": "2024-05-26T10:14:12.301071",
     "status": "completed"
    },
    "tags": []
   },
   "outputs": [],
   "source": [
    "# stemmed_data"
   ]
  },
  {
   "cell_type": "markdown",
   "id": "12e61d02",
   "metadata": {
    "papermill": {
     "duration": 0.015426,
     "end_time": "2024-05-26T10:14:12.357322",
     "exception": false,
     "start_time": "2024-05-26T10:14:12.341896",
     "status": "completed"
    },
    "tags": []
   },
   "source": []
  },
  {
   "cell_type": "code",
   "execution_count": 14,
   "id": "c2415039",
   "metadata": {
    "execution": {
     "iopub.execute_input": "2024-05-26T10:14:12.390754Z",
     "iopub.status.busy": "2024-05-26T10:14:12.389889Z",
     "iopub.status.idle": "2024-05-26T10:14:12.395248Z",
     "shell.execute_reply": "2024-05-26T10:14:12.394431Z"
    },
    "papermill": {
     "duration": 0.024695,
     "end_time": "2024-05-26T10:14:12.397612",
     "exception": false,
     "start_time": "2024-05-26T10:14:12.372917",
     "status": "completed"
    },
    "tags": []
   },
   "outputs": [],
   "source": [
    "# from wordcloud import WordCloud\n",
    "# import matplotlib.pyplot as plt\n",
    "\n",
    "# # membuat visualisasi WordCloud\n",
    "# join_review = ''.join(''.join(l) for l in df.reviews)\n",
    "\n",
    "# w_cloud = WordCloud(background_color=\"white\",\n",
    "#                     width=700, height=300, max_font_size=120,\n",
    "#                     max_words=500, contour_color='blue',\n",
    "#                     contour_width=2).generate(str(join_review))\n",
    "\n",
    "# # plot wordcloud\n",
    "# plt.figure(figsize=(12,10))\n",
    "# plt.axis(\"off\")\n",
    "# plt.tight_layout()\n",
    "# plt.imshow(w_cloud, interpolation=\"bilinear\")\n",
    "# plt.show()"
   ]
  },
  {
   "cell_type": "code",
   "execution_count": 15,
   "id": "d9f21f76",
   "metadata": {
    "execution": {
     "iopub.execute_input": "2024-05-26T10:14:12.431228Z",
     "iopub.status.busy": "2024-05-26T10:14:12.430408Z",
     "iopub.status.idle": "2024-05-26T10:14:12.497398Z",
     "shell.execute_reply": "2024-05-26T10:14:12.496006Z"
    },
    "papermill": {
     "duration": 0.086959,
     "end_time": "2024-05-26T10:14:12.500395",
     "exception": false,
     "start_time": "2024-05-26T10:14:12.413436",
     "status": "completed"
    },
    "tags": []
   },
   "outputs": [
    {
     "name": "stdout",
     "output_type": "stream",
     "text": [
      "[[0 0 0 ... 0 0 0]\n",
      " [0 0 0 ... 0 0 0]\n",
      " [0 0 0 ... 0 0 0]\n",
      " ...\n",
      " [0 0 0 ... 0 0 0]\n",
      " [0 0 0 ... 0 0 0]\n",
      " [0 0 0 ... 0 0 0]]\n"
     ]
    }
   ],
   "source": [
    "from sklearn.feature_extraction.text import CountVectorizer\n",
    "\n",
    "# Meratakan nested list menjadi list of string\n",
    "flattened_reviews = [\" \".join(review) for review in df.reviews]\n",
    "\n",
    "# Membuat DataFrame dari flattened list\n",
    "df_flattened = pd.DataFrame({'reviews': flattened_reviews})\n",
    "\n",
    "# Inisialisasi CountVectorizer\n",
    "cv = CountVectorizer()\n",
    "\n",
    "# Transformasi data dan ubah menjadi array\n",
    "X = cv.fit_transform(df_flattened['reviews']).toarray()\n",
    "\n",
    "# Menampilkan hasil\n",
    "print(X)"
   ]
  },
  {
   "cell_type": "code",
   "execution_count": 16,
   "id": "2d1635a5",
   "metadata": {
    "execution": {
     "iopub.execute_input": "2024-05-26T10:14:12.535801Z",
     "iopub.status.busy": "2024-05-26T10:14:12.535172Z",
     "iopub.status.idle": "2024-05-26T10:14:12.545639Z",
     "shell.execute_reply": "2024-05-26T10:14:12.544450Z"
    },
    "papermill": {
     "duration": 0.031438,
     "end_time": "2024-05-26T10:14:12.548131",
     "exception": false,
     "start_time": "2024-05-26T10:14:12.516693",
     "status": "completed"
    },
    "tags": []
   },
   "outputs": [
    {
     "data": {
      "text/html": [
       "<div>\n",
       "<style scoped>\n",
       "    .dataframe tbody tr th:only-of-type {\n",
       "        vertical-align: middle;\n",
       "    }\n",
       "\n",
       "    .dataframe tbody tr th {\n",
       "        vertical-align: top;\n",
       "    }\n",
       "\n",
       "    .dataframe thead th {\n",
       "        text-align: right;\n",
       "    }\n",
       "</style>\n",
       "<table border=\"1\" class=\"dataframe\">\n",
       "  <thead>\n",
       "    <tr style=\"text-align: right;\">\n",
       "      <th></th>\n",
       "      <th>reviews</th>\n",
       "    </tr>\n",
       "  </thead>\n",
       "  <tbody>\n",
       "    <tr>\n",
       "      <th>0</th>\n",
       "      <td>kemeja bagusss bgtttt aaaa mauuu nngisssss knp...</td>\n",
       "    </tr>\n",
       "    <tr>\n",
       "      <th>1</th>\n",
       "      <td>jahitannya rapi cuman benang ikut jahit jadi j...</td>\n",
       "    </tr>\n",
       "    <tr>\n",
       "      <th>2</th>\n",
       "      <td>sesuai harga tipis oke kok warnanya abu kalo d...</td>\n",
       "    </tr>\n",
       "    <tr>\n",
       "      <th>3</th>\n",
       "      <td>wah gila sihhh sebagus se worth it se lembut b...</td>\n",
       "    </tr>\n",
       "    <tr>\n",
       "      <th>4</th>\n",
       "      <td>kain bagus halus kok bukak kotor warna putih</td>\n",
       "    </tr>\n",
       "  </tbody>\n",
       "</table>\n",
       "</div>"
      ],
      "text/plain": [
       "                                             reviews\n",
       "0  kemeja bagusss bgtttt aaaa mauuu nngisssss knp...\n",
       "1  jahitannya rapi cuman benang ikut jahit jadi j...\n",
       "2  sesuai harga tipis oke kok warnanya abu kalo d...\n",
       "3  wah gila sihhh sebagus se worth it se lembut b...\n",
       "4       kain bagus halus kok bukak kotor warna putih"
      ]
     },
     "execution_count": 16,
     "metadata": {},
     "output_type": "execute_result"
    }
   ],
   "source": [
    "df_flattened.head()"
   ]
  },
  {
   "cell_type": "markdown",
   "id": "5b128173",
   "metadata": {
    "papermill": {
     "duration": 0.01654,
     "end_time": "2024-05-26T10:14:12.581527",
     "exception": false,
     "start_time": "2024-05-26T10:14:12.564987",
     "status": "completed"
    },
    "tags": []
   },
   "source": [
    "## Creating model"
   ]
  },
  {
   "cell_type": "code",
   "execution_count": 17,
   "id": "b03e7d5a",
   "metadata": {
    "execution": {
     "iopub.execute_input": "2024-05-26T10:14:12.617033Z",
     "iopub.status.busy": "2024-05-26T10:14:12.616344Z",
     "iopub.status.idle": "2024-05-26T10:14:12.625541Z",
     "shell.execute_reply": "2024-05-26T10:14:12.624363Z"
    },
    "papermill": {
     "duration": 0.030363,
     "end_time": "2024-05-26T10:14:12.628409",
     "exception": false,
     "start_time": "2024-05-26T10:14:12.598046",
     "status": "completed"
    },
    "tags": []
   },
   "outputs": [],
   "source": [
    "from sklearn.feature_extraction.text import CountVectorizer\n",
    "from sklearn.model_selection import train_test_split\n",
    "from sklearn.naive_bayes import GaussianNB,MultinomialNB,BernoulliNB\n",
    "from sklearn.metrics import accuracy_score\n",
    "import pickle"
   ]
  },
  {
   "cell_type": "code",
   "execution_count": 18,
   "id": "7cadc4b8",
   "metadata": {
    "execution": {
     "iopub.execute_input": "2024-05-26T10:14:12.726549Z",
     "iopub.status.busy": "2024-05-26T10:14:12.725577Z",
     "iopub.status.idle": "2024-05-26T10:14:12.729807Z",
     "shell.execute_reply": "2024-05-26T10:14:12.728998Z"
    },
    "papermill": {
     "duration": 0.02405,
     "end_time": "2024-05-26T10:14:12.732295",
     "exception": false,
     "start_time": "2024-05-26T10:14:12.708245",
     "status": "completed"
    },
    "tags": []
   },
   "outputs": [],
   "source": [
    "# vectorizer = CountVectorizer()\n",
    "# X = vectorizer.fit_transform(df['reviews']).toarray()\n",
    "# y = df['sentiment']"
   ]
  },
  {
   "cell_type": "code",
   "execution_count": 19,
   "id": "74fbb88e",
   "metadata": {
    "execution": {
     "iopub.execute_input": "2024-05-26T10:14:12.767404Z",
     "iopub.status.busy": "2024-05-26T10:14:12.766987Z",
     "iopub.status.idle": "2024-05-26T10:14:12.811440Z",
     "shell.execute_reply": "2024-05-26T10:14:12.809965Z"
    },
    "papermill": {
     "duration": 0.065641,
     "end_time": "2024-05-26T10:14:12.814262",
     "exception": false,
     "start_time": "2024-05-26T10:14:12.748621",
     "status": "completed"
    },
    "tags": []
   },
   "outputs": [
    {
     "name": "stdout",
     "output_type": "stream",
     "text": [
      "X.shape =  (831, 1000)\n",
      "y.shape =  (831,)\n"
     ]
    }
   ],
   "source": [
    "X = np.array(df.iloc[:,0].values)\n",
    "y = np.array(df.label.values)\n",
    "cv = CountVectorizer(max_features = 1000)\n",
    "X = cv.fit_transform(df_flattened.reviews).toarray()\n",
    "print(\"X.shape = \",X.shape)\n",
    "print(\"y.shape = \",y.shape)"
   ]
  },
  {
   "cell_type": "markdown",
   "id": "5630d25b",
   "metadata": {
    "papermill": {
     "duration": 0.016826,
     "end_time": "2024-05-26T10:14:12.847363",
     "exception": false,
     "start_time": "2024-05-26T10:14:12.830537",
     "status": "completed"
    },
    "tags": []
   },
   "source": [
    "## train test split"
   ]
  },
  {
   "cell_type": "code",
   "execution_count": 20,
   "id": "4639aaac",
   "metadata": {
    "execution": {
     "iopub.execute_input": "2024-05-26T10:14:12.884203Z",
     "iopub.status.busy": "2024-05-26T10:14:12.883511Z",
     "iopub.status.idle": "2024-05-26T10:14:12.899729Z",
     "shell.execute_reply": "2024-05-26T10:14:12.898094Z"
    },
    "papermill": {
     "duration": 0.036857,
     "end_time": "2024-05-26T10:14:12.902208",
     "exception": false,
     "start_time": "2024-05-26T10:14:12.865351",
     "status": "completed"
    },
    "tags": []
   },
   "outputs": [
    {
     "name": "stdout",
     "output_type": "stream",
     "text": [
      "Train shapes : X = (664, 1000), y = (664,)\n",
      "Test shapes : X = (167, 1000), y = (167,)\n"
     ]
    }
   ],
   "source": [
    "trainx,testx,trainy,testy = train_test_split(X,y,test_size=0.2,random_state=42)\n",
    "print(\"Train shapes : X = {}, y = {}\".format(trainx.shape,trainy.shape))\n",
    "print(\"Test shapes : X = {}, y = {}\".format(testx.shape,testy.shape))"
   ]
  },
  {
   "cell_type": "markdown",
   "id": "312cd901",
   "metadata": {
    "papermill": {
     "duration": 0.016528,
     "end_time": "2024-05-26T10:14:12.935487",
     "exception": false,
     "start_time": "2024-05-26T10:14:12.918959",
     "status": "completed"
    },
    "tags": []
   },
   "source": [
    "## Membuat dan melakukan training pada model"
   ]
  },
  {
   "cell_type": "code",
   "execution_count": 21,
   "id": "5b3de0f0",
   "metadata": {
    "execution": {
     "iopub.execute_input": "2024-05-26T10:14:12.970552Z",
     "iopub.status.busy": "2024-05-26T10:14:12.969595Z",
     "iopub.status.idle": "2024-05-26T10:14:12.974205Z",
     "shell.execute_reply": "2024-05-26T10:14:12.973326Z"
    },
    "papermill": {
     "duration": 0.024243,
     "end_time": "2024-05-26T10:14:12.976449",
     "exception": false,
     "start_time": "2024-05-26T10:14:12.952206",
     "status": "completed"
    },
    "tags": []
   },
   "outputs": [],
   "source": [
    "# gnb,mnb,bnb = GaussianNB(),MultinomialNB(alpha=1.0,fit_prior=True),BernoulliNB(alpha=1.0,fit_prior=True)\n",
    "# gnb.fit(trainx,trainy)\n",
    "# mnb.fit(trainx,trainy)\n",
    "# bnb.fit(trainx,trainy)"
   ]
  },
  {
   "cell_type": "code",
   "execution_count": 22,
   "id": "c0ba6083",
   "metadata": {
    "execution": {
     "iopub.execute_input": "2024-05-26T10:14:13.011563Z",
     "iopub.status.busy": "2024-05-26T10:14:13.010319Z",
     "iopub.status.idle": "2024-05-26T10:14:13.211714Z",
     "shell.execute_reply": "2024-05-26T10:14:13.210338Z"
    },
    "papermill": {
     "duration": 0.221935,
     "end_time": "2024-05-26T10:14:13.214638",
     "exception": false,
     "start_time": "2024-05-26T10:14:12.992703",
     "status": "completed"
    },
    "tags": []
   },
   "outputs": [],
   "source": [
    "import pandas as pd\n",
    "from sklearn.feature_extraction.text import CountVectorizer\n",
    "from sklearn.model_selection import train_test_split\n",
    "from sklearn.naive_bayes import BernoulliNB, ComplementNB, MultinomialNB\n",
    "from sklearn.neighbors import KNeighborsClassifier\n",
    "from sklearn.tree import DecisionTreeClassifier\n",
    "from sklearn.ensemble import RandomForestClassifier, AdaBoostClassifier\n",
    "from sklearn.linear_model import LogisticRegression\n",
    "from sklearn.neural_network import MLPClassifier\n",
    "from sklearn.metrics import classification_report\n",
    "import nltk\n",
    "from nltk.classify import SklearnClassifier\n",
    "from random import shuffle\n"
   ]
  },
  {
   "cell_type": "markdown",
   "id": "19b83a23",
   "metadata": {
    "papermill": {
     "duration": 0.016396,
     "end_time": "2024-05-26T10:14:13.247442",
     "exception": false,
     "start_time": "2024-05-26T10:14:13.231046",
     "status": "completed"
    },
    "tags": []
   },
   "source": [
    "### shuffle dataset"
   ]
  },
  {
   "cell_type": "code",
   "execution_count": 23,
   "id": "66631ae3",
   "metadata": {
    "execution": {
     "iopub.execute_input": "2024-05-26T10:14:13.281780Z",
     "iopub.status.busy": "2024-05-26T10:14:13.281358Z",
     "iopub.status.idle": "2024-05-26T10:14:13.476676Z",
     "shell.execute_reply": "2024-05-26T10:14:13.475569Z"
    },
    "papermill": {
     "duration": 0.215508,
     "end_time": "2024-05-26T10:14:13.479301",
     "exception": false,
     "start_time": "2024-05-26T10:14:13.263793",
     "status": "completed"
    },
    "tags": []
   },
   "outputs": [],
   "source": [
    "features = [(dict(enumerate(x)), y) for x, y in zip(X, y)]\n",
    "shuffle(features)\n",
    "train_count = len(features) * 3 // 4\n",
    "train_data = features[:train_count]\n",
    "test_data = features[train_count:]"
   ]
  },
  {
   "cell_type": "code",
   "execution_count": 24,
   "id": "1b396786",
   "metadata": {
    "execution": {
     "iopub.execute_input": "2024-05-26T10:14:13.514567Z",
     "iopub.status.busy": "2024-05-26T10:14:13.513880Z",
     "iopub.status.idle": "2024-05-26T10:14:13.518537Z",
     "shell.execute_reply": "2024-05-26T10:14:13.517556Z"
    },
    "papermill": {
     "duration": 0.025432,
     "end_time": "2024-05-26T10:14:13.521047",
     "exception": false,
     "start_time": "2024-05-26T10:14:13.495615",
     "status": "completed"
    },
    "tags": []
   },
   "outputs": [],
   "source": [
    "# features"
   ]
  },
  {
   "cell_type": "markdown",
   "id": "4698d6c5",
   "metadata": {
    "papermill": {
     "duration": 0.017142,
     "end_time": "2024-05-26T10:14:13.554629",
     "exception": false,
     "start_time": "2024-05-26T10:14:13.537487",
     "status": "completed"
    },
    "tags": []
   },
   "source": [
    "### Memilih model terbaik"
   ]
  },
  {
   "cell_type": "code",
   "execution_count": 25,
   "id": "7d512005",
   "metadata": {
    "execution": {
     "iopub.execute_input": "2024-05-26T10:14:13.589604Z",
     "iopub.status.busy": "2024-05-26T10:14:13.588920Z",
     "iopub.status.idle": "2024-05-26T10:15:43.513339Z",
     "shell.execute_reply": "2024-05-26T10:15:43.512025Z"
    },
    "papermill": {
     "duration": 89.94517,
     "end_time": "2024-05-26T10:15:43.516286",
     "exception": false,
     "start_time": "2024-05-26T10:14:13.571116",
     "status": "completed"
    },
    "tags": []
   },
   "outputs": [
    {
     "name": "stdout",
     "output_type": "stream",
     "text": [
      "91.83% - BernoulliNB\n",
      "93.27% - ComplementNB\n",
      "92.79% - MultinomialNB\n",
      "65.87% - KNeighborsClassifier\n",
      "75.00% - DecisionTreeClassifier\n",
      "88.46% - RandomForestClassifier\n",
      "89.42% - LogisticRegression\n",
      "93.75% - MLPClassifier\n",
      "84.13% - AdaBoostClassifier\n",
      "\n",
      "Model terbaik adalah MLPClassifier dengan akurasi 93.75%\n"
     ]
    }
   ],
   "source": [
    "classifiers = {\n",
    "    \"BernoulliNB\": BernoulliNB(),\n",
    "    \"ComplementNB\": ComplementNB(),\n",
    "    \"MultinomialNB\": MultinomialNB(),\n",
    "    \"KNeighborsClassifier\": KNeighborsClassifier(),\n",
    "    \"DecisionTreeClassifier\": DecisionTreeClassifier(),\n",
    "    \"RandomForestClassifier\": RandomForestClassifier(),\n",
    "    \"LogisticRegression\": LogisticRegression(max_iter=1000),\n",
    "    \"MLPClassifier\": MLPClassifier(max_iter=1000),\n",
    "    \"AdaBoostClassifier\": AdaBoostClassifier(),\n",
    "}\n",
    "\n",
    "best_accuracy = 0\n",
    "best_classifier = None\n",
    "best_classifier_name = \"\"\n",
    "\n",
    "for name, sklearn_classifier in classifiers.items():\n",
    "    classifier = SklearnClassifier(sklearn_classifier)\n",
    "    classifier.train(train_data)\n",
    "    accuracy = nltk.classify.accuracy(classifier, test_data)\n",
    "    print(f\"{accuracy:.2%} - {name}\")\n",
    "    if accuracy > best_accuracy:\n",
    "        best_accuracy = accuracy\n",
    "        best_classifier = classifier\n",
    "        best_classifier_name = name\n",
    "\n",
    "print(f\"\\nModel terbaik adalah {best_classifier_name} dengan akurasi {best_accuracy:.2%}\")"
   ]
  },
  {
   "cell_type": "markdown",
   "id": "ed01b2de",
   "metadata": {
    "papermill": {
     "duration": 0.01757,
     "end_time": "2024-05-26T10:15:43.551680",
     "exception": false,
     "start_time": "2024-05-26T10:15:43.534110",
     "status": "completed"
    },
    "tags": []
   },
   "source": [
    "### ambil classifier terbaik"
   ]
  },
  {
   "cell_type": "code",
   "execution_count": 26,
   "id": "37022da9",
   "metadata": {
    "execution": {
     "iopub.execute_input": "2024-05-26T10:15:43.589228Z",
     "iopub.status.busy": "2024-05-26T10:15:43.588831Z",
     "iopub.status.idle": "2024-05-26T10:15:43.594529Z",
     "shell.execute_reply": "2024-05-26T10:15:43.593237Z"
    },
    "papermill": {
     "duration": 0.027505,
     "end_time": "2024-05-26T10:15:43.597166",
     "exception": false,
     "start_time": "2024-05-26T10:15:43.569661",
     "status": "completed"
    },
    "tags": []
   },
   "outputs": [],
   "source": [
    "classifier_instance = best_classifier._clf"
   ]
  },
  {
   "cell_type": "code",
   "execution_count": 27,
   "id": "684296dc",
   "metadata": {
    "execution": {
     "iopub.execute_input": "2024-05-26T10:15:43.634526Z",
     "iopub.status.busy": "2024-05-26T10:15:43.634030Z",
     "iopub.status.idle": "2024-05-26T10:15:43.645409Z",
     "shell.execute_reply": "2024-05-26T10:15:43.644039Z"
    },
    "papermill": {
     "duration": 0.033294,
     "end_time": "2024-05-26T10:15:43.648200",
     "exception": false,
     "start_time": "2024-05-26T10:15:43.614906",
     "status": "completed"
    },
    "tags": []
   },
   "outputs": [
    {
     "data": {
      "text/html": [
       "<style>#sk-container-id-1 {color: black;background-color: white;}#sk-container-id-1 pre{padding: 0;}#sk-container-id-1 div.sk-toggleable {background-color: white;}#sk-container-id-1 label.sk-toggleable__label {cursor: pointer;display: block;width: 100%;margin-bottom: 0;padding: 0.3em;box-sizing: border-box;text-align: center;}#sk-container-id-1 label.sk-toggleable__label-arrow:before {content: \"▸\";float: left;margin-right: 0.25em;color: #696969;}#sk-container-id-1 label.sk-toggleable__label-arrow:hover:before {color: black;}#sk-container-id-1 div.sk-estimator:hover label.sk-toggleable__label-arrow:before {color: black;}#sk-container-id-1 div.sk-toggleable__content {max-height: 0;max-width: 0;overflow: hidden;text-align: left;background-color: #f0f8ff;}#sk-container-id-1 div.sk-toggleable__content pre {margin: 0.2em;color: black;border-radius: 0.25em;background-color: #f0f8ff;}#sk-container-id-1 input.sk-toggleable__control:checked~div.sk-toggleable__content {max-height: 200px;max-width: 100%;overflow: auto;}#sk-container-id-1 input.sk-toggleable__control:checked~label.sk-toggleable__label-arrow:before {content: \"▾\";}#sk-container-id-1 div.sk-estimator input.sk-toggleable__control:checked~label.sk-toggleable__label {background-color: #d4ebff;}#sk-container-id-1 div.sk-label input.sk-toggleable__control:checked~label.sk-toggleable__label {background-color: #d4ebff;}#sk-container-id-1 input.sk-hidden--visually {border: 0;clip: rect(1px 1px 1px 1px);clip: rect(1px, 1px, 1px, 1px);height: 1px;margin: -1px;overflow: hidden;padding: 0;position: absolute;width: 1px;}#sk-container-id-1 div.sk-estimator {font-family: monospace;background-color: #f0f8ff;border: 1px dotted black;border-radius: 0.25em;box-sizing: border-box;margin-bottom: 0.5em;}#sk-container-id-1 div.sk-estimator:hover {background-color: #d4ebff;}#sk-container-id-1 div.sk-parallel-item::after {content: \"\";width: 100%;border-bottom: 1px solid gray;flex-grow: 1;}#sk-container-id-1 div.sk-label:hover label.sk-toggleable__label {background-color: #d4ebff;}#sk-container-id-1 div.sk-serial::before {content: \"\";position: absolute;border-left: 1px solid gray;box-sizing: border-box;top: 0;bottom: 0;left: 50%;z-index: 0;}#sk-container-id-1 div.sk-serial {display: flex;flex-direction: column;align-items: center;background-color: white;padding-right: 0.2em;padding-left: 0.2em;position: relative;}#sk-container-id-1 div.sk-item {position: relative;z-index: 1;}#sk-container-id-1 div.sk-parallel {display: flex;align-items: stretch;justify-content: center;background-color: white;position: relative;}#sk-container-id-1 div.sk-item::before, #sk-container-id-1 div.sk-parallel-item::before {content: \"\";position: absolute;border-left: 1px solid gray;box-sizing: border-box;top: 0;bottom: 0;left: 50%;z-index: -1;}#sk-container-id-1 div.sk-parallel-item {display: flex;flex-direction: column;z-index: 1;position: relative;background-color: white;}#sk-container-id-1 div.sk-parallel-item:first-child::after {align-self: flex-end;width: 50%;}#sk-container-id-1 div.sk-parallel-item:last-child::after {align-self: flex-start;width: 50%;}#sk-container-id-1 div.sk-parallel-item:only-child::after {width: 0;}#sk-container-id-1 div.sk-dashed-wrapped {border: 1px dashed gray;margin: 0 0.4em 0.5em 0.4em;box-sizing: border-box;padding-bottom: 0.4em;background-color: white;}#sk-container-id-1 div.sk-label label {font-family: monospace;font-weight: bold;display: inline-block;line-height: 1.2em;}#sk-container-id-1 div.sk-label-container {text-align: center;}#sk-container-id-1 div.sk-container {/* jupyter's `normalize.less` sets `[hidden] { display: none; }` but bootstrap.min.css set `[hidden] { display: none !important; }` so we also need the `!important` here to be able to override the default hidden behavior on the sphinx rendered scikit-learn.org. See: https://github.com/scikit-learn/scikit-learn/issues/21755 */display: inline-block !important;position: relative;}#sk-container-id-1 div.sk-text-repr-fallback {display: none;}</style><div id=\"sk-container-id-1\" class=\"sk-top-container\"><div class=\"sk-text-repr-fallback\"><pre>MLPClassifier(max_iter=1000)</pre><b>In a Jupyter environment, please rerun this cell to show the HTML representation or trust the notebook. <br />On GitHub, the HTML representation is unable to render, please try loading this page with nbviewer.org.</b></div><div class=\"sk-container\" hidden><div class=\"sk-item\"><div class=\"sk-estimator sk-toggleable\"><input class=\"sk-toggleable__control sk-hidden--visually\" id=\"sk-estimator-id-1\" type=\"checkbox\" checked><label for=\"sk-estimator-id-1\" class=\"sk-toggleable__label sk-toggleable__label-arrow\">MLPClassifier</label><div class=\"sk-toggleable__content\"><pre>MLPClassifier(max_iter=1000)</pre></div></div></div></div></div>"
      ],
      "text/plain": [
       "MLPClassifier(max_iter=1000)"
      ]
     },
     "execution_count": 27,
     "metadata": {},
     "output_type": "execute_result"
    }
   ],
   "source": [
    "classifier_instance"
   ]
  },
  {
   "cell_type": "markdown",
   "id": "5c04169b",
   "metadata": {
    "papermill": {
     "duration": 0.01785,
     "end_time": "2024-05-26T10:15:43.685678",
     "exception": false,
     "start_time": "2024-05-26T10:15:43.667828",
     "status": "completed"
    },
    "tags": []
   },
   "source": [
    "### latih model menggunakan seluruh dataset"
   ]
  },
  {
   "cell_type": "code",
   "execution_count": 28,
   "id": "d9f4ab51",
   "metadata": {
    "execution": {
     "iopub.execute_input": "2024-05-26T10:15:43.725256Z",
     "iopub.status.busy": "2024-05-26T10:15:43.724680Z",
     "iopub.status.idle": "2024-05-26T10:15:53.496201Z",
     "shell.execute_reply": "2024-05-26T10:15:53.494598Z"
    },
    "papermill": {
     "duration": 9.795598,
     "end_time": "2024-05-26T10:15:53.500436",
     "exception": false,
     "start_time": "2024-05-26T10:15:43.704838",
     "status": "completed"
    },
    "tags": []
   },
   "outputs": [
    {
     "data": {
      "text/html": [
       "<style>#sk-container-id-2 {color: black;background-color: white;}#sk-container-id-2 pre{padding: 0;}#sk-container-id-2 div.sk-toggleable {background-color: white;}#sk-container-id-2 label.sk-toggleable__label {cursor: pointer;display: block;width: 100%;margin-bottom: 0;padding: 0.3em;box-sizing: border-box;text-align: center;}#sk-container-id-2 label.sk-toggleable__label-arrow:before {content: \"▸\";float: left;margin-right: 0.25em;color: #696969;}#sk-container-id-2 label.sk-toggleable__label-arrow:hover:before {color: black;}#sk-container-id-2 div.sk-estimator:hover label.sk-toggleable__label-arrow:before {color: black;}#sk-container-id-2 div.sk-toggleable__content {max-height: 0;max-width: 0;overflow: hidden;text-align: left;background-color: #f0f8ff;}#sk-container-id-2 div.sk-toggleable__content pre {margin: 0.2em;color: black;border-radius: 0.25em;background-color: #f0f8ff;}#sk-container-id-2 input.sk-toggleable__control:checked~div.sk-toggleable__content {max-height: 200px;max-width: 100%;overflow: auto;}#sk-container-id-2 input.sk-toggleable__control:checked~label.sk-toggleable__label-arrow:before {content: \"▾\";}#sk-container-id-2 div.sk-estimator input.sk-toggleable__control:checked~label.sk-toggleable__label {background-color: #d4ebff;}#sk-container-id-2 div.sk-label input.sk-toggleable__control:checked~label.sk-toggleable__label {background-color: #d4ebff;}#sk-container-id-2 input.sk-hidden--visually {border: 0;clip: rect(1px 1px 1px 1px);clip: rect(1px, 1px, 1px, 1px);height: 1px;margin: -1px;overflow: hidden;padding: 0;position: absolute;width: 1px;}#sk-container-id-2 div.sk-estimator {font-family: monospace;background-color: #f0f8ff;border: 1px dotted black;border-radius: 0.25em;box-sizing: border-box;margin-bottom: 0.5em;}#sk-container-id-2 div.sk-estimator:hover {background-color: #d4ebff;}#sk-container-id-2 div.sk-parallel-item::after {content: \"\";width: 100%;border-bottom: 1px solid gray;flex-grow: 1;}#sk-container-id-2 div.sk-label:hover label.sk-toggleable__label {background-color: #d4ebff;}#sk-container-id-2 div.sk-serial::before {content: \"\";position: absolute;border-left: 1px solid gray;box-sizing: border-box;top: 0;bottom: 0;left: 50%;z-index: 0;}#sk-container-id-2 div.sk-serial {display: flex;flex-direction: column;align-items: center;background-color: white;padding-right: 0.2em;padding-left: 0.2em;position: relative;}#sk-container-id-2 div.sk-item {position: relative;z-index: 1;}#sk-container-id-2 div.sk-parallel {display: flex;align-items: stretch;justify-content: center;background-color: white;position: relative;}#sk-container-id-2 div.sk-item::before, #sk-container-id-2 div.sk-parallel-item::before {content: \"\";position: absolute;border-left: 1px solid gray;box-sizing: border-box;top: 0;bottom: 0;left: 50%;z-index: -1;}#sk-container-id-2 div.sk-parallel-item {display: flex;flex-direction: column;z-index: 1;position: relative;background-color: white;}#sk-container-id-2 div.sk-parallel-item:first-child::after {align-self: flex-end;width: 50%;}#sk-container-id-2 div.sk-parallel-item:last-child::after {align-self: flex-start;width: 50%;}#sk-container-id-2 div.sk-parallel-item:only-child::after {width: 0;}#sk-container-id-2 div.sk-dashed-wrapped {border: 1px dashed gray;margin: 0 0.4em 0.5em 0.4em;box-sizing: border-box;padding-bottom: 0.4em;background-color: white;}#sk-container-id-2 div.sk-label label {font-family: monospace;font-weight: bold;display: inline-block;line-height: 1.2em;}#sk-container-id-2 div.sk-label-container {text-align: center;}#sk-container-id-2 div.sk-container {/* jupyter's `normalize.less` sets `[hidden] { display: none; }` but bootstrap.min.css set `[hidden] { display: none !important; }` so we also need the `!important` here to be able to override the default hidden behavior on the sphinx rendered scikit-learn.org. See: https://github.com/scikit-learn/scikit-learn/issues/21755 */display: inline-block !important;position: relative;}#sk-container-id-2 div.sk-text-repr-fallback {display: none;}</style><div id=\"sk-container-id-2\" class=\"sk-top-container\"><div class=\"sk-text-repr-fallback\"><pre>MLPClassifier(max_iter=1000)</pre><b>In a Jupyter environment, please rerun this cell to show the HTML representation or trust the notebook. <br />On GitHub, the HTML representation is unable to render, please try loading this page with nbviewer.org.</b></div><div class=\"sk-container\" hidden><div class=\"sk-item\"><div class=\"sk-estimator sk-toggleable\"><input class=\"sk-toggleable__control sk-hidden--visually\" id=\"sk-estimator-id-2\" type=\"checkbox\" checked><label for=\"sk-estimator-id-2\" class=\"sk-toggleable__label sk-toggleable__label-arrow\">MLPClassifier</label><div class=\"sk-toggleable__content\"><pre>MLPClassifier(max_iter=1000)</pre></div></div></div></div></div>"
      ],
      "text/plain": [
       "MLPClassifier(max_iter=1000)"
      ]
     },
     "execution_count": 28,
     "metadata": {},
     "output_type": "execute_result"
    }
   ],
   "source": [
    "from sklearn.feature_extraction.text import TfidfVectorizer\n",
    "vectorizer = TfidfVectorizer()\n",
    "\n",
    "# Menggabungkan kembali data pelatihan dan pengujian untuk melatih model terbaik dengan seluruh data\n",
    "all_X = vectorizer.fit_transform(df_flattened['reviews']).toarray()\n",
    "all_y = df['label']\n",
    "\n",
    "# Melatih model terbaik dengan seluruh data\n",
    "# best_classifier = MultinomialNB()\n",
    "classifier_instance.fit(all_X, all_y)\n"
   ]
  },
  {
   "cell_type": "markdown",
   "id": "32a15fd8",
   "metadata": {
    "papermill": {
     "duration": 0.039024,
     "end_time": "2024-05-26T10:15:53.577661",
     "exception": false,
     "start_time": "2024-05-26T10:15:53.538637",
     "status": "completed"
    },
    "tags": []
   },
   "source": [
    "## Uji coba model"
   ]
  },
  {
   "cell_type": "code",
   "execution_count": 29,
   "id": "393b7c5c",
   "metadata": {
    "execution": {
     "iopub.execute_input": "2024-05-26T10:15:53.627179Z",
     "iopub.status.busy": "2024-05-26T10:15:53.626761Z",
     "iopub.status.idle": "2024-05-26T10:15:53.644488Z",
     "shell.execute_reply": "2024-05-26T10:15:53.642664Z"
    },
    "papermill": {
     "duration": 0.04239,
     "end_time": "2024-05-26T10:15:53.649690",
     "exception": false,
     "start_time": "2024-05-26T10:15:53.607300",
     "status": "completed"
    },
    "tags": []
   },
   "outputs": [
    {
     "name": "stdout",
     "output_type": "stream",
     "text": [
      "Review: 'Pengiriman sangat cepat dan tepat waktu.' -> Sentimen: Positif\n",
      "Review: 'Produk ini sangat buruk dan mengecewakan.' -> Sentimen: Negatif\n",
      "Review: 'Produknya sangat bagus dan kualitasnya pun sesuai harga.' -> Sentimen: Positif\n",
      "Review: 'Harga terlalu mahal dengan barang yang jelek.' -> Sentimen: Negatif\n"
     ]
    }
   ],
   "source": [
    "# Data baru untuk diuji\n",
    "new_reviews = [\n",
    "    \"Pengiriman sangat cepat dan tepat waktu.\",\n",
    "    \"Produk ini sangat buruk dan mengecewakan.\",\n",
    "    \"Produknya sangat bagus dan kualitasnya pun sesuai harga.\",\n",
    "    \"Harga terlalu mahal dengan barang yang jelek.\"\n",
    "]\n",
    "\n",
    "# Preprocessing data baru\n",
    "new_X = vectorizer.transform(new_reviews).toarray()\n",
    "\n",
    "# Prediksi sentimen dengan model terbaik\n",
    "new_predictions = classifier_instance.predict(new_X)\n",
    "\n",
    "# Menampilkan hasil prediksi\n",
    "for review, sentiment in zip(new_reviews, new_predictions):\n",
    "    sentiment_label = \"Positif\" if sentiment == 1 else \"Negatif\"\n",
    "    print(f\"Review: '{review}' -> Sentimen: {sentiment_label}\")\n"
   ]
  },
  {
   "cell_type": "markdown",
   "id": "4aaafb13",
   "metadata": {
    "papermill": {
     "duration": 0.039047,
     "end_time": "2024-05-26T10:15:53.729864",
     "exception": false,
     "start_time": "2024-05-26T10:15:53.690817",
     "status": "completed"
    },
    "tags": []
   },
   "source": [
    "#### Miscelanouse"
   ]
  },
  {
   "cell_type": "code",
   "execution_count": 30,
   "id": "f1988a88",
   "metadata": {
    "execution": {
     "iopub.execute_input": "2024-05-26T10:15:53.781839Z",
     "iopub.status.busy": "2024-05-26T10:15:53.781441Z",
     "iopub.status.idle": "2024-05-26T10:15:53.785770Z",
     "shell.execute_reply": "2024-05-26T10:15:53.784868Z"
    },
    "papermill": {
     "duration": 0.026856,
     "end_time": "2024-05-26T10:15:53.788024",
     "exception": false,
     "start_time": "2024-05-26T10:15:53.761168",
     "status": "completed"
    },
    "tags": []
   },
   "outputs": [],
   "source": [
    "# ypg = gnb.predict(testx)\n",
    "# ypm = mnb.predict(testx)\n",
    "# ypb = bnb.predict(testx)\n",
    "\n",
    "# print(\"Gaussian = \",accuracy_score(testy,ypg))\n",
    "# print(\"Multinomial = \",accuracy_score(testy,ypm))\n",
    "# print(\"Bernoulli = \",accuracy_score(testy,ypb))"
   ]
  },
  {
   "cell_type": "code",
   "execution_count": 31,
   "id": "68b99f90",
   "metadata": {
    "execution": {
     "iopub.execute_input": "2024-05-26T10:15:53.826617Z",
     "iopub.status.busy": "2024-05-26T10:15:53.826219Z",
     "iopub.status.idle": "2024-05-26T10:15:53.830735Z",
     "shell.execute_reply": "2024-05-26T10:15:53.829775Z"
    },
    "papermill": {
     "duration": 0.02677,
     "end_time": "2024-05-26T10:15:53.833065",
     "exception": false,
     "start_time": "2024-05-26T10:15:53.806295",
     "status": "completed"
    },
    "tags": []
   },
   "outputs": [],
   "source": [
    "# pickle.dump(mnb,open('model.pkl','wb'))"
   ]
  },
  {
   "cell_type": "code",
   "execution_count": 32,
   "id": "5a0013d7",
   "metadata": {
    "execution": {
     "iopub.execute_input": "2024-05-26T10:15:53.872285Z",
     "iopub.status.busy": "2024-05-26T10:15:53.871545Z",
     "iopub.status.idle": "2024-05-26T10:15:53.876270Z",
     "shell.execute_reply": "2024-05-26T10:15:53.875038Z"
    },
    "papermill": {
     "duration": 0.027289,
     "end_time": "2024-05-26T10:15:53.878809",
     "exception": false,
     "start_time": "2024-05-26T10:15:53.851520",
     "status": "completed"
    },
    "tags": []
   },
   "outputs": [],
   "source": [
    "# senti_neg = \"Produk ini sangat mengecewakan, kualitasnya jauh di bawah harapan\"\n",
    "# senti_pos = \"Pengalaman belanja yang menyenangkan, saya pasti akan membeli dari toko ini lagi\""
   ]
  },
  {
   "cell_type": "code",
   "execution_count": 33,
   "id": "f7d7e7cd",
   "metadata": {
    "execution": {
     "iopub.execute_input": "2024-05-26T10:15:53.917246Z",
     "iopub.status.busy": "2024-05-26T10:15:53.916461Z",
     "iopub.status.idle": "2024-05-26T10:15:53.921615Z",
     "shell.execute_reply": "2024-05-26T10:15:53.920238Z"
    },
    "papermill": {
     "duration": 0.028076,
     "end_time": "2024-05-26T10:15:53.925045",
     "exception": false,
     "start_time": "2024-05-26T10:15:53.896969",
     "status": "completed"
    },
    "tags": []
   },
   "outputs": [],
   "source": [
    "# text = senti_pos\n",
    "\n",
    "# bow,words = [],word_tokenize(text)\n",
    "# for word in words:\n",
    "#     bow.append(words.count(word))\n",
    "# # np.array(bow).reshape(1,3000)\n",
    "# # bow.shape\n",
    "# word_dict = cv.vocabulary_\n",
    "# pickle.dump(word_dict,open('bow.pkl','wb'))"
   ]
  },
  {
   "cell_type": "code",
   "execution_count": 34,
   "id": "f36de38b",
   "metadata": {
    "execution": {
     "iopub.execute_input": "2024-05-26T10:15:53.963577Z",
     "iopub.status.busy": "2024-05-26T10:15:53.963168Z",
     "iopub.status.idle": "2024-05-26T10:15:53.968290Z",
     "shell.execute_reply": "2024-05-26T10:15:53.966925Z"
    },
    "papermill": {
     "duration": 0.027038,
     "end_time": "2024-05-26T10:15:53.970832",
     "exception": false,
     "start_time": "2024-05-26T10:15:53.943794",
     "status": "completed"
    },
    "tags": []
   },
   "outputs": [],
   "source": [
    "# word_dict"
   ]
  },
  {
   "cell_type": "code",
   "execution_count": 35,
   "id": "a6efc22f",
   "metadata": {
    "execution": {
     "iopub.execute_input": "2024-05-26T10:15:54.011524Z",
     "iopub.status.busy": "2024-05-26T10:15:54.010337Z",
     "iopub.status.idle": "2024-05-26T10:15:54.016253Z",
     "shell.execute_reply": "2024-05-26T10:15:54.014493Z"
    },
    "papermill": {
     "duration": 0.029889,
     "end_time": "2024-05-26T10:15:54.018957",
     "exception": false,
     "start_time": "2024-05-26T10:15:53.989068",
     "status": "completed"
    },
    "tags": []
   },
   "outputs": [],
   "source": [
    "# inp = []\n",
    "# for i in word_dict:\n",
    "#     inp.append(senti_pos.count(i[0]))\n",
    "# y_pred = mnb.predict(np.array(inp).reshape(1,1000))\n",
    "# print(y_pred)"
   ]
  },
  {
   "cell_type": "code",
   "execution_count": 36,
   "id": "0a9efaaf",
   "metadata": {
    "execution": {
     "iopub.execute_input": "2024-05-26T10:15:54.057598Z",
     "iopub.status.busy": "2024-05-26T10:15:54.057161Z",
     "iopub.status.idle": "2024-05-26T10:15:54.062112Z",
     "shell.execute_reply": "2024-05-26T10:15:54.060625Z"
    },
    "papermill": {
     "duration": 0.027612,
     "end_time": "2024-05-26T10:15:54.064901",
     "exception": false,
     "start_time": "2024-05-26T10:15:54.037289",
     "status": "completed"
    },
    "tags": []
   },
   "outputs": [],
   "source": [
    "# inp = []\n",
    "# for i in word_dict:\n",
    "#     inp.append(senti_neg.count(i[0]))\n",
    "# y_pred = mnb.predict(np.array(inp).reshape(1,1000))\n",
    "# print(y_pred)"
   ]
  }
 ],
 "metadata": {
  "kaggle": {
   "accelerator": "none",
   "dataSources": [
    {
     "datasetId": 2374957,
     "sourceId": 4004531,
     "sourceType": "datasetVersion"
    }
   ],
   "dockerImageVersionId": 30698,
   "isGpuEnabled": false,
   "isInternetEnabled": true,
   "language": "python",
   "sourceType": "notebook"
  },
  "kernelspec": {
   "display_name": "Python 3",
   "language": "python",
   "name": "python3"
  },
  "language_info": {
   "codemirror_mode": {
    "name": "ipython",
    "version": 3
   },
   "file_extension": ".py",
   "mimetype": "text/x-python",
   "name": "python",
   "nbconvert_exporter": "python",
   "pygments_lexer": "ipython3",
   "version": "3.10.13"
  },
  "papermill": {
   "default_parameters": {},
   "duration": 127.012464,
   "end_time": "2024-05-26T10:15:54.907788",
   "environment_variables": {},
   "exception": null,
   "input_path": "__notebook__.ipynb",
   "output_path": "__notebook__.ipynb",
   "parameters": {},
   "start_time": "2024-05-26T10:13:47.895324",
   "version": "2.5.0"
  }
 },
 "nbformat": 4,
 "nbformat_minor": 5
}
